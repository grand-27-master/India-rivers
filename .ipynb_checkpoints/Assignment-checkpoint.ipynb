{
 "cells": [
  {
   "cell_type": "code",
   "execution_count": 1,
   "metadata": {},
   "outputs": [],
   "source": [
    "import pandas as pd\n",
    "import numpy as np\n",
    "import matplotlib.pyplot as plt"
   ]
  },
  {
   "cell_type": "code",
   "execution_count": 2,
   "metadata": {},
   "outputs": [],
   "source": [
    "brahmaputra=pd.read_csv('Bramhaputra_grid.csv')\n",
    "ganga=pd.read_csv('Ganga_grid.csv')\n",
    "india=pd.read_csv('India_grids.csv')"
   ]
  },
  {
   "cell_type": "code",
   "execution_count": 7,
   "metadata": {},
   "outputs": [
    {
     "data": {
      "text/html": [
       "<div>\n",
       "<style scoped>\n",
       "    .dataframe tbody tr th:only-of-type {\n",
       "        vertical-align: middle;\n",
       "    }\n",
       "\n",
       "    .dataframe tbody tr th {\n",
       "        vertical-align: top;\n",
       "    }\n",
       "\n",
       "    .dataframe thead th {\n",
       "        text-align: right;\n",
       "    }\n",
       "</style>\n",
       "<table border=\"1\" class=\"dataframe\">\n",
       "  <thead>\n",
       "    <tr style=\"text-align: right;\">\n",
       "      <th></th>\n",
       "      <th>x</th>\n",
       "      <th>y</th>\n",
       "      <th>Mean</th>\n",
       "      <th>Std</th>\n",
       "      <th>Unnamed: 4</th>\n",
       "      <th>Unnamed: 5</th>\n",
       "      <th>Unnamed: 6</th>\n",
       "      <th>Unnamed: 7</th>\n",
       "    </tr>\n",
       "  </thead>\n",
       "  <tbody>\n",
       "    <tr>\n",
       "      <th>0</th>\n",
       "      <td>93.50</td>\n",
       "      <td>24.75</td>\n",
       "      <td>187.938989</td>\n",
       "      <td>169.057613</td>\n",
       "      <td>NaN</td>\n",
       "      <td>NaN</td>\n",
       "      <td>NaN</td>\n",
       "      <td>NaN</td>\n",
       "    </tr>\n",
       "    <tr>\n",
       "      <th>1</th>\n",
       "      <td>93.75</td>\n",
       "      <td>24.75</td>\n",
       "      <td>168.190583</td>\n",
       "      <td>152.580813</td>\n",
       "      <td>NaN</td>\n",
       "      <td>287.4452946</td>\n",
       "      <td>NaN</td>\n",
       "      <td>NaN</td>\n",
       "    </tr>\n",
       "    <tr>\n",
       "      <th>2</th>\n",
       "      <td>94.00</td>\n",
       "      <td>24.75</td>\n",
       "      <td>161.181271</td>\n",
       "      <td>145.144599</td>\n",
       "      <td>NaN</td>\n",
       "      <td>62.17666777</td>\n",
       "      <td>NaN</td>\n",
       "      <td>NaN</td>\n",
       "    </tr>\n",
       "    <tr>\n",
       "      <th>3</th>\n",
       "      <td>93.00</td>\n",
       "      <td>25.00</td>\n",
       "      <td>233.368826</td>\n",
       "      <td>217.086492</td>\n",
       "      <td>NaN</td>\n",
       "      <td>[62,290]</td>\n",
       "      <td>[min, first quartile)</td>\n",
       "      <td>[First quartile, median)</td>\n",
       "    </tr>\n",
       "    <tr>\n",
       "      <th>4</th>\n",
       "      <td>93.25</td>\n",
       "      <td>25.00</td>\n",
       "      <td>199.286344</td>\n",
       "      <td>178.210683</td>\n",
       "      <td>NaN</td>\n",
       "      <td>NaN</td>\n",
       "      <td>NaN</td>\n",
       "      <td>[median, third quartile)</td>\n",
       "    </tr>\n",
       "    <tr>\n",
       "      <th>...</th>\n",
       "      <td>...</td>\n",
       "      <td>...</td>\n",
       "      <td>...</td>\n",
       "      <td>...</td>\n",
       "      <td>...</td>\n",
       "      <td>...</td>\n",
       "      <td>...</td>\n",
       "      <td>...</td>\n",
       "    </tr>\n",
       "    <tr>\n",
       "      <th>330</th>\n",
       "      <td>95.75</td>\n",
       "      <td>29.25</td>\n",
       "      <td>74.910074</td>\n",
       "      <td>74.705265</td>\n",
       "      <td>NaN</td>\n",
       "      <td>NaN</td>\n",
       "      <td>NaN</td>\n",
       "      <td>NaN</td>\n",
       "    </tr>\n",
       "    <tr>\n",
       "      <th>331</th>\n",
       "      <td>96.00</td>\n",
       "      <td>29.25</td>\n",
       "      <td>69.180291</td>\n",
       "      <td>69.401018</td>\n",
       "      <td>NaN</td>\n",
       "      <td>NaN</td>\n",
       "      <td>NaN</td>\n",
       "      <td>NaN</td>\n",
       "    </tr>\n",
       "    <tr>\n",
       "      <th>332</th>\n",
       "      <td>96.25</td>\n",
       "      <td>29.25</td>\n",
       "      <td>63.450508</td>\n",
       "      <td>64.220816</td>\n",
       "      <td>NaN</td>\n",
       "      <td>NaN</td>\n",
       "      <td>NaN</td>\n",
       "      <td>NaN</td>\n",
       "    </tr>\n",
       "    <tr>\n",
       "      <th>333</th>\n",
       "      <td>96.50</td>\n",
       "      <td>29.25</td>\n",
       "      <td>62.176668</td>\n",
       "      <td>62.496498</td>\n",
       "      <td>NaN</td>\n",
       "      <td>NaN</td>\n",
       "      <td>NaN</td>\n",
       "      <td>NaN</td>\n",
       "    </tr>\n",
       "    <tr>\n",
       "      <th>334</th>\n",
       "      <td>96.00</td>\n",
       "      <td>29.50</td>\n",
       "      <td>62.368171</td>\n",
       "      <td>63.465120</td>\n",
       "      <td>NaN</td>\n",
       "      <td>NaN</td>\n",
       "      <td>NaN</td>\n",
       "      <td>NaN</td>\n",
       "    </tr>\n",
       "  </tbody>\n",
       "</table>\n",
       "<p>335 rows × 8 columns</p>\n",
       "</div>"
      ],
      "text/plain": [
       "         x      y        Mean         Std  Unnamed: 4   Unnamed: 5  \\\n",
       "0    93.50  24.75  187.938989  169.057613         NaN          NaN   \n",
       "1    93.75  24.75  168.190583  152.580813         NaN  287.4452946   \n",
       "2    94.00  24.75  161.181271  145.144599         NaN  62.17666777   \n",
       "3    93.00  25.00  233.368826  217.086492         NaN     [62,290]   \n",
       "4    93.25  25.00  199.286344  178.210683         NaN          NaN   \n",
       "..     ...    ...         ...         ...         ...          ...   \n",
       "330  95.75  29.25   74.910074   74.705265         NaN          NaN   \n",
       "331  96.00  29.25   69.180291   69.401018         NaN          NaN   \n",
       "332  96.25  29.25   63.450508   64.220816         NaN          NaN   \n",
       "333  96.50  29.25   62.176668   62.496498         NaN          NaN   \n",
       "334  96.00  29.50   62.368171   63.465120         NaN          NaN   \n",
       "\n",
       "                Unnamed: 6                Unnamed: 7  \n",
       "0                      NaN                       NaN  \n",
       "1                      NaN                       NaN  \n",
       "2                      NaN                       NaN  \n",
       "3    [min, first quartile)  [First quartile, median)  \n",
       "4                      NaN  [median, third quartile)  \n",
       "..                     ...                       ...  \n",
       "330                    NaN                       NaN  \n",
       "331                    NaN                       NaN  \n",
       "332                    NaN                       NaN  \n",
       "333                    NaN                       NaN  \n",
       "334                    NaN                       NaN  \n",
       "\n",
       "[335 rows x 8 columns]"
      ]
     },
     "execution_count": 7,
     "metadata": {},
     "output_type": "execute_result"
    }
   ],
   "source": [
    "brahmaputra"
   ]
  },
  {
   "cell_type": "code",
   "execution_count": 10,
   "metadata": {},
   "outputs": [
    {
     "data": {
      "text/html": [
       "<div>\n",
       "<style scoped>\n",
       "    .dataframe tbody tr th:only-of-type {\n",
       "        vertical-align: middle;\n",
       "    }\n",
       "\n",
       "    .dataframe tbody tr th {\n",
       "        vertical-align: top;\n",
       "    }\n",
       "\n",
       "    .dataframe thead th {\n",
       "        text-align: right;\n",
       "    }\n",
       "</style>\n",
       "<table border=\"1\" class=\"dataframe\">\n",
       "  <thead>\n",
       "    <tr style=\"text-align: right;\">\n",
       "      <th></th>\n",
       "      <th>Long</th>\n",
       "      <th>Lat</th>\n",
       "    </tr>\n",
       "  </thead>\n",
       "  <tbody>\n",
       "    <tr>\n",
       "      <th>0</th>\n",
       "      <td>93.50</td>\n",
       "      <td>24.75</td>\n",
       "    </tr>\n",
       "    <tr>\n",
       "      <th>1</th>\n",
       "      <td>93.75</td>\n",
       "      <td>24.75</td>\n",
       "    </tr>\n",
       "    <tr>\n",
       "      <th>2</th>\n",
       "      <td>94.00</td>\n",
       "      <td>24.75</td>\n",
       "    </tr>\n",
       "    <tr>\n",
       "      <th>3</th>\n",
       "      <td>93.00</td>\n",
       "      <td>25.00</td>\n",
       "    </tr>\n",
       "    <tr>\n",
       "      <th>4</th>\n",
       "      <td>93.25</td>\n",
       "      <td>25.00</td>\n",
       "    </tr>\n",
       "    <tr>\n",
       "      <th>...</th>\n",
       "      <td>...</td>\n",
       "      <td>...</td>\n",
       "    </tr>\n",
       "    <tr>\n",
       "      <th>330</th>\n",
       "      <td>95.75</td>\n",
       "      <td>29.25</td>\n",
       "    </tr>\n",
       "    <tr>\n",
       "      <th>331</th>\n",
       "      <td>96.00</td>\n",
       "      <td>29.25</td>\n",
       "    </tr>\n",
       "    <tr>\n",
       "      <th>332</th>\n",
       "      <td>96.25</td>\n",
       "      <td>29.25</td>\n",
       "    </tr>\n",
       "    <tr>\n",
       "      <th>333</th>\n",
       "      <td>96.50</td>\n",
       "      <td>29.25</td>\n",
       "    </tr>\n",
       "    <tr>\n",
       "      <th>334</th>\n",
       "      <td>96.00</td>\n",
       "      <td>29.50</td>\n",
       "    </tr>\n",
       "  </tbody>\n",
       "</table>\n",
       "<p>335 rows × 2 columns</p>\n",
       "</div>"
      ],
      "text/plain": [
       "      Long    Lat\n",
       "0    93.50  24.75\n",
       "1    93.75  24.75\n",
       "2    94.00  24.75\n",
       "3    93.00  25.00\n",
       "4    93.25  25.00\n",
       "..     ...    ...\n",
       "330  95.75  29.25\n",
       "331  96.00  29.25\n",
       "332  96.25  29.25\n",
       "333  96.50  29.25\n",
       "334  96.00  29.50\n",
       "\n",
       "[335 rows x 2 columns]"
      ]
     },
     "execution_count": 10,
     "metadata": {},
     "output_type": "execute_result"
    }
   ],
   "source": [
    "ganga"
   ]
  },
  {
   "cell_type": "code",
   "execution_count": 14,
   "metadata": {},
   "outputs": [
    {
     "data": {
      "text/html": [
       "<div>\n",
       "<style scoped>\n",
       "    .dataframe tbody tr th:only-of-type {\n",
       "        vertical-align: middle;\n",
       "    }\n",
       "\n",
       "    .dataframe tbody tr th {\n",
       "        vertical-align: top;\n",
       "    }\n",
       "\n",
       "    .dataframe thead th {\n",
       "        text-align: right;\n",
       "    }\n",
       "</style>\n",
       "<table border=\"1\" class=\"dataframe\">\n",
       "  <thead>\n",
       "    <tr style=\"text-align: right;\">\n",
       "      <th></th>\n",
       "      <th>x</th>\n",
       "      <th>y</th>\n",
       "    </tr>\n",
       "  </thead>\n",
       "  <tbody>\n",
       "    <tr>\n",
       "      <th>0</th>\n",
       "      <td>76.5</td>\n",
       "      <td>8.5</td>\n",
       "    </tr>\n",
       "    <tr>\n",
       "      <th>1</th>\n",
       "      <td>77.5</td>\n",
       "      <td>8.5</td>\n",
       "    </tr>\n",
       "    <tr>\n",
       "      <th>2</th>\n",
       "      <td>78.5</td>\n",
       "      <td>8.5</td>\n",
       "    </tr>\n",
       "    <tr>\n",
       "      <th>3</th>\n",
       "      <td>76.5</td>\n",
       "      <td>9.5</td>\n",
       "    </tr>\n",
       "    <tr>\n",
       "      <th>4</th>\n",
       "      <td>77.5</td>\n",
       "      <td>9.5</td>\n",
       "    </tr>\n",
       "    <tr>\n",
       "      <th>...</th>\n",
       "      <td>...</td>\n",
       "      <td>...</td>\n",
       "    </tr>\n",
       "    <tr>\n",
       "      <th>349</th>\n",
       "      <td>73.5</td>\n",
       "      <td>36.5</td>\n",
       "    </tr>\n",
       "    <tr>\n",
       "      <th>350</th>\n",
       "      <td>74.5</td>\n",
       "      <td>36.5</td>\n",
       "    </tr>\n",
       "    <tr>\n",
       "      <th>351</th>\n",
       "      <td>75.5</td>\n",
       "      <td>36.5</td>\n",
       "    </tr>\n",
       "    <tr>\n",
       "      <th>352</th>\n",
       "      <td>78.5</td>\n",
       "      <td>36.5</td>\n",
       "    </tr>\n",
       "    <tr>\n",
       "      <th>353</th>\n",
       "      <td>79.5</td>\n",
       "      <td>36.5</td>\n",
       "    </tr>\n",
       "  </tbody>\n",
       "</table>\n",
       "<p>354 rows × 2 columns</p>\n",
       "</div>"
      ],
      "text/plain": [
       "        x     y\n",
       "0    76.5   8.5\n",
       "1    77.5   8.5\n",
       "2    78.5   8.5\n",
       "3    76.5   9.5\n",
       "4    77.5   9.5\n",
       "..    ...   ...\n",
       "349  73.5  36.5\n",
       "350  74.5  36.5\n",
       "351  75.5  36.5\n",
       "352  78.5  36.5\n",
       "353  79.5  36.5\n",
       "\n",
       "[354 rows x 2 columns]"
      ]
     },
     "execution_count": 14,
     "metadata": {},
     "output_type": "execute_result"
    }
   ],
   "source": [
    "india"
   ]
  },
  {
   "cell_type": "code",
   "execution_count": 3,
   "metadata": {
    "collapsed": true
   },
   "outputs": [
    {
     "data": {
      "text/plain": [
       "<bound method NDFrame.describe of          x      y        Mean         Std  Unnamed: 4   Unnamed: 5  \\\n",
       "0    93.50  24.75  187.938989  169.057613         NaN          NaN   \n",
       "1    93.75  24.75  168.190583  152.580813         NaN  287.4452946   \n",
       "2    94.00  24.75  161.181271  145.144599         NaN  62.17666777   \n",
       "3    93.00  25.00  233.368826  217.086492         NaN     [62,290]   \n",
       "4    93.25  25.00  199.286344  178.210683         NaN          NaN   \n",
       "..     ...    ...         ...         ...         ...          ...   \n",
       "330  95.75  29.25   74.910074   74.705265         NaN          NaN   \n",
       "331  96.00  29.25   69.180291   69.401018         NaN          NaN   \n",
       "332  96.25  29.25   63.450508   64.220816         NaN          NaN   \n",
       "333  96.50  29.25   62.176668   62.496498         NaN          NaN   \n",
       "334  96.00  29.50   62.368171   63.465120         NaN          NaN   \n",
       "\n",
       "                Unnamed: 6                Unnamed: 7  \n",
       "0                      NaN                       NaN  \n",
       "1                      NaN                       NaN  \n",
       "2                      NaN                       NaN  \n",
       "3    [min, first quartile)  [First quartile, median)  \n",
       "4                      NaN  [median, third quartile)  \n",
       "..                     ...                       ...  \n",
       "330                    NaN                       NaN  \n",
       "331                    NaN                       NaN  \n",
       "332                    NaN                       NaN  \n",
       "333                    NaN                       NaN  \n",
       "334                    NaN                       NaN  \n",
       "\n",
       "[335 rows x 8 columns]>"
      ]
     },
     "execution_count": 3,
     "metadata": {},
     "output_type": "execute_result"
    }
   ],
   "source": [
    "brahmaputra.describe"
   ]
  },
  {
   "cell_type": "code",
   "execution_count": 4,
   "metadata": {
    "collapsed": true
   },
   "outputs": [
    {
     "data": {
      "text/plain": [
       "<bound method NDFrame.describe of       Long    Lat\n",
       "0    93.50  24.75\n",
       "1    93.75  24.75\n",
       "2    94.00  24.75\n",
       "3    93.00  25.00\n",
       "4    93.25  25.00\n",
       "..     ...    ...\n",
       "330  95.75  29.25\n",
       "331  96.00  29.25\n",
       "332  96.25  29.25\n",
       "333  96.50  29.25\n",
       "334  96.00  29.50\n",
       "\n",
       "[335 rows x 2 columns]>"
      ]
     },
     "execution_count": 4,
     "metadata": {},
     "output_type": "execute_result"
    }
   ],
   "source": [
    "ganga.describe"
   ]
  },
  {
   "cell_type": "code",
   "execution_count": 5,
   "metadata": {
    "collapsed": true
   },
   "outputs": [
    {
     "data": {
      "text/plain": [
       "<bound method NDFrame.describe of         x     y\n",
       "0    76.5   8.5\n",
       "1    77.5   8.5\n",
       "2    78.5   8.5\n",
       "3    76.5   9.5\n",
       "4    77.5   9.5\n",
       "..    ...   ...\n",
       "349  73.5  36.5\n",
       "350  74.5  36.5\n",
       "351  75.5  36.5\n",
       "352  78.5  36.5\n",
       "353  79.5  36.5\n",
       "\n",
       "[354 rows x 2 columns]>"
      ]
     },
     "execution_count": 5,
     "metadata": {},
     "output_type": "execute_result"
    }
   ],
   "source": [
    "india.describe"
   ]
  },
  {
   "cell_type": "code",
   "execution_count": 6,
   "metadata": {},
   "outputs": [],
   "source": [
    "plt.style.use('dark_background')"
   ]
  },
  {
   "cell_type": "code",
   "execution_count": 22,
   "metadata": {},
   "outputs": [
    {
     "data": {
      "text/plain": [
       "Text(0, 0.5, 'y')"
      ]
     },
     "execution_count": 22,
     "metadata": {},
     "output_type": "execute_result"
    },
    {
     "data": {
      "image/png": "[encoded data removed]",
      "text/plain": [
       "<Figure size 1152x432 with 1 Axes>"
      ]
     },
     "metadata": {},
     "output_type": "display_data"
    }
   ],
   "source": [
    "plt.figure(figsize=(16,6))\n",
    "\n",
    "plt.bar(brahmaputra['x'],brahmaputra['y'])\n",
    "plt.xlabel('x')\n",
    "plt.ylabel('y')"
   ]
  },
  {
   "cell_type": "code",
   "execution_count": 13,
   "metadata": {},
   "outputs": [
    {
     "data": {
      "text/plain": [
       "Text(0, 0.5, 'Latitude')"
      ]
     },
     "execution_count": 13,
     "metadata": {},
     "output_type": "execute_result"
    },
    {
     "data": {
      "image/png": "[encoded data removed]",
      "text/plain": [
       "<Figure size 1152x432 with 1 Axes>"
      ]
     },
     "metadata": {},
     "output_type": "display_data"
    }
   ],
   "source": [
    "plt.figure(figsize=(16,6))\n",
    "\n",
    "plt.scatter(ganga['Long'],ganga['Lat'])\n",
    "plt.xlabel('Longitude')\n",
    "plt.ylabel('Latitude')"
   ]
  },
  {
   "cell_type": "code",
   "execution_count": 20,
   "metadata": {},
   "outputs": [
    {
     "data": {
      "text/plain": [
       "Text(0, 0.5, 'y')"
      ]
     },
     "execution_count": 20,
     "metadata": {},
     "output_type": "execute_result"
    },
    {
     "data": {
      "image/png": "[encoded data removed]",
      "text/plain": [
       "<Figure size 1152x432 with 1 Axes>"
      ]
     },
     "metadata": {},
     "output_type": "display_data"
    }
   ],
   "source": [
    "plt.figure(figsize=(16,6))\n",
    "\n",
    "plt.bar(india['x'],india['y'])\n",
    "plt.xlabel('x')\n",
    "plt.ylabel('y')"
   ]
  }
 ],
 "metadata": {
  "kernelspec": {
   "display_name": "Python 3",
   "language": "python",
   "name": "python3"
  },
  "language_info": {
   "codemirror_mode": {
    "name": "ipython",
    "version": 3
   },
   "file_extension": ".py",
   "mimetype": "text/x-python",
   "name": "python",
   "nbconvert_exporter": "python",
   "pygments_lexer": "ipython3",
   "version": "3.7.9"
  }
 },
 "nbformat": 4,
 "nbformat_minor": 4
}
